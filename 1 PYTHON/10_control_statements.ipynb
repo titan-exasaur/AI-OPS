{
 "cells": [
  {
   "cell_type": "markdown",
   "metadata": {},
   "source": [
    "# **Control Statements**\n",
    "\n",
    "- Conditional Statements : `if`, `elif`, `else`\n",
    "- Looping Statements: `for`, `while`\n",
    "- Break and Continue Statements: `break` and `continue`\n",
    "- Pass Statements: `pass`\n",
    "- Exception Handling: `try`, `except` and `finally`"
   ]
  },
  {
   "cell_type": "markdown",
   "metadata": {},
   "source": [
    "### **Conditional Statements**"
   ]
  },
  {
   "cell_type": "code",
   "execution_count": 1,
   "metadata": {},
   "outputs": [
    {
     "name": "stdout",
     "output_type": "stream",
     "text": [
      "x is positive\n"
     ]
    }
   ],
   "source": [
    "x = 10\n",
    "if x>0:\n",
    "    print(\"x is positive\")"
   ]
  },
  {
   "cell_type": "code",
   "execution_count": 2,
   "metadata": {},
   "outputs": [
    {
     "name": "stdout",
     "output_type": "stream",
     "text": [
      "x is negative\n"
     ]
    }
   ],
   "source": [
    "x = -10\n",
    "if x>0:\n",
    "    print(\"x is positive\")\n",
    "else:\n",
    "    print(\"x is negative\")"
   ]
  },
  {
   "cell_type": "code",
   "execution_count": 4,
   "metadata": {},
   "outputs": [
    {
     "name": "stdout",
     "output_type": "stream",
     "text": [
      "x is zero\n"
     ]
    }
   ],
   "source": [
    "x = -0.000\n",
    "if x>0:\n",
    "    print(\"x is positive\")\n",
    "elif x<0:\n",
    "    print(\"x is negative\")\n",
    "else:\n",
    "    print(\"x is zero\")"
   ]
  },
  {
   "cell_type": "code",
   "execution_count": 5,
   "metadata": {},
   "outputs": [
    {
     "name": "stdout",
     "output_type": "stream",
     "text": [
      "x is divisible by 5 and 11\n"
     ]
    }
   ],
   "source": [
    "x = 55\n",
    "\n",
    "if x%5 == 0:\n",
    "    if x%11 == 0:\n",
    "        print(\"x is divisible by 5 and 11\")\n",
    "    else:\n",
    "        print(\"x is divisible by 5 but not 11\")\n",
    "else:\n",
    "    if x%11 == 0:\n",
    "        print(\"x is divisible by 11 but not 5\")\n",
    "    else:\n",
    "        print(\"x is neither divisible by 5 nor by 11\")"
   ]
  },
  {
   "cell_type": "markdown",
   "metadata": {},
   "source": [
    "### **Looping Statements**\n",
    "\n",
    "- for loop : is used for iterating over a sequence such as a list, tuple, string or range\n",
    "- while loop : is used to repeatedly execute a block of code as long as a specified condition is true"
   ]
  },
  {
   "cell_type": "code",
   "execution_count": 7,
   "metadata": {},
   "outputs": [
    {
     "name": "stdout",
     "output_type": "stream",
     "text": [
      "this is a sample text\n",
      "apple\n",
      "this is a sample text\n",
      "banana\n",
      "this is a sample text\n",
      "cherry\n"
     ]
    }
   ],
   "source": [
    "fruits = [\"apple\", \"banana\", \"cherry\"]\n",
    "for i in fruits:\n",
    "    print(\"this is a sample text\")\n",
    "    print(i)"
   ]
  },
  {
   "cell_type": "code",
   "execution_count": 8,
   "metadata": {},
   "outputs": [
    {
     "name": "stdout",
     "output_type": "stream",
     "text": [
      "this is a sample text\n",
      "0\n",
      "this is a sample text\n",
      "1\n",
      "this is a sample text\n",
      "2\n",
      "this is a sample text\n",
      "3\n",
      "this is a sample text\n",
      "4\n",
      "count value reached 5\n"
     ]
    }
   ],
   "source": [
    "count = 0\n",
    "while count < 5:\n",
    "    print(\"this is a sample text\")\n",
    "    print(count)\n",
    "    count = count + 1\n",
    "else:\n",
    "    print(\"count value reached %d\" % count)"
   ]
  },
  {
   "cell_type": "code",
   "execution_count": 9,
   "metadata": {},
   "outputs": [
    {
     "name": "stdout",
     "output_type": "stream",
     "text": [
      "this is a sample text\n",
      "apple\n",
      "this is a sample text\n",
      "banana\n"
     ]
    }
   ],
   "source": [
    "fruits = [\"apple\", \"banana\", \"cherry\"]\n",
    "for i in fruits:\n",
    "    print(\"this is a sample text\")\n",
    "    print(i)\n",
    "    if i == \"banana\":\n",
    "        break"
   ]
  },
  {
   "cell_type": "code",
   "execution_count": 10,
   "metadata": {},
   "outputs": [
    {
     "name": "stdout",
     "output_type": "stream",
     "text": [
      "this is a sample text\n",
      "apple\n",
      "this is a sample text\n",
      "this is a sample text\n",
      "cherry\n"
     ]
    }
   ],
   "source": [
    "fruits = [\"apple\", \"banana\", \"cherry\"]\n",
    "for i in fruits:\n",
    "    print(\"this is a sample text\")\n",
    "    if i == \"banana\":\n",
    "        continue\n",
    "    print(i)"
   ]
  },
  {
   "cell_type": "code",
   "execution_count": null,
   "metadata": {},
   "outputs": [],
   "source": []
  }
 ],
 "metadata": {
  "kernelspec": {
   "display_name": "main",
   "language": "python",
   "name": "python3"
  },
  "language_info": {
   "codemirror_mode": {
    "name": "ipython",
    "version": 3
   },
   "file_extension": ".py",
   "mimetype": "text/x-python",
   "name": "python",
   "nbconvert_exporter": "python",
   "pygments_lexer": "ipython3",
   "version": "3.8.19"
  }
 },
 "nbformat": 4,
 "nbformat_minor": 2
}

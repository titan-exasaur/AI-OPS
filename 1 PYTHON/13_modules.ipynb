{
 "cells": [
  {
   "cell_type": "markdown",
   "metadata": {},
   "source": [
    "# **Modules in Python**\n",
    "\n",
    "- a module is a file containing Python definitions and statements.\n",
    "- modules are the files with `.py` extension.\n",
    "- modules help us organize our code.\n",
    "- modules help us reuse code."
   ]
  },
  {
   "cell_type": "code",
   "execution_count": 5,
   "metadata": {},
   "outputs": [
    {
     "data": {
      "text/plain": [
       "10"
      ]
     },
     "execution_count": 5,
     "metadata": {},
     "output_type": "execute_result"
    }
   ],
   "source": [
    "from my_module import *\n",
    "calc = calculator()\n",
    "calc.add(5,5)"
   ]
  },
  {
   "cell_type": "markdown",
   "metadata": {},
   "source": [
    "# **Classes in Python**\n",
    "\n",
    "- Classes : a class is a user defined blueprint or prototype from which objects are created\n",
    "- objects : an instance of a class - with values\n",
    "- class attributes : reflects the properties of an object\n",
    "- class methods : reflects the behaviour of object\n",
    "\n",
    "\n",
    "```\n",
    "class : keyword used to define a class\n",
    "class name / identifier : name of the class follows the class keyword\n",
    "attributes : variables that store data associated with the class or it's instances\n",
    "methods : functions that perform actions related to the class or it's instances\n",
    "```"
   ]
  },
  {
   "cell_type": "code",
   "execution_count": 11,
   "metadata": {},
   "outputs": [],
   "source": [
    "class myClass:\n",
    "    #class variable\n",
    "    class_variable = \"this is a class variable\"\n",
    "\n",
    "    #constructor/initializer method\n",
    "    def __init__(self, attribute1, attribute2):\n",
    "        #instance variables\n",
    "        self.attribute1 = attribute1\n",
    "        self.attribute2 = attribute2\n",
    "    \n",
    "    #instance method\n",
    "    def display_attributes(self):\n",
    "        print(f\"Attribute 1: {self.attribute1}\")\n",
    "        print(f\"Attribute 2: {self.attribute2}\")\n",
    "    \n",
    "    #another instance method\n",
    "    def update_attributes(self, new_value1, new_value2):\n",
    "        self.attribute1 = new_value1\n",
    "        self.attribute2 = new_value2"
   ]
  },
  {
   "cell_type": "code",
   "execution_count": 12,
   "metadata": {},
   "outputs": [
    {
     "name": "stdout",
     "output_type": "stream",
     "text": [
      "kumar\n",
      "aiops\n"
     ]
    }
   ],
   "source": [
    "obj1 = myClass(\"kumar\", \"aiops\")\n",
    "print(obj1.attribute1)\n",
    "print(obj1.attribute2)"
   ]
  },
  {
   "cell_type": "code",
   "execution_count": 13,
   "metadata": {},
   "outputs": [
    {
     "name": "stdout",
     "output_type": "stream",
     "text": [
      "Attribute 1: kumar\n",
      "Attribute 2: aiops\n"
     ]
    }
   ],
   "source": [
    "obj1.display_attributes()"
   ]
  },
  {
   "cell_type": "code",
   "execution_count": 15,
   "metadata": {},
   "outputs": [
    {
     "name": "stdout",
     "output_type": "stream",
     "text": [
      "Attribute 1: hello\n",
      "Attribute 2: mlops\n"
     ]
    }
   ],
   "source": [
    "obj1.update_attributes(\"hello\", \"mlops\")\n",
    "obj1.display_attributes()"
   ]
  },
  {
   "cell_type": "code",
   "execution_count": null,
   "metadata": {},
   "outputs": [],
   "source": []
  }
 ],
 "metadata": {
  "kernelspec": {
   "display_name": "main",
   "language": "python",
   "name": "python3"
  },
  "language_info": {
   "codemirror_mode": {
    "name": "ipython",
    "version": 3
   },
   "file_extension": ".py",
   "mimetype": "text/x-python",
   "name": "python",
   "nbconvert_exporter": "python",
   "pygments_lexer": "ipython3",
   "version": "3.8.19"
  }
 },
 "nbformat": 4,
 "nbformat_minor": 2
}

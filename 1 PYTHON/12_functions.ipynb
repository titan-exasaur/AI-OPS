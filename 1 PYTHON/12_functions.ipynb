{
 "cells": [
  {
   "cell_type": "code",
   "execution_count": 2,
   "metadata": {},
   "outputs": [
    {
     "name": "stdout",
     "output_type": "stream",
     "text": [
      "addition of 1 and 2 is 3\n"
     ]
    }
   ],
   "source": [
    "# 1. function without parameters\n",
    "def add():\n",
    "    a = int(input('Enter first number: '))\n",
    "    b = int(input('Enter second number: '))\n",
    "    c = a + b\n",
    "    print(f\"addition of {a} and {b} is {c}\")\n",
    "\n",
    "add()"
   ]
  },
  {
   "cell_type": "code",
   "execution_count": 11,
   "metadata": {},
   "outputs": [
    {
     "name": "stdout",
     "output_type": "stream",
     "text": [
      "addition of 5 and 6 is 11\n"
     ]
    }
   ],
   "source": [
    "# 2. function with parameters\n",
    "def add(a, b):\n",
    "    c = a + b\n",
    "    print(f\"addition of {a} and {b} is {c}\")\n",
    "\n",
    "#add(5)#TypeError: add() missing 1 required positional argument: 'b'\n",
    "add(5,6)"
   ]
  },
  {
   "cell_type": "code",
   "execution_count": 12,
   "metadata": {},
   "outputs": [
    {
     "name": "stdout",
     "output_type": "stream",
     "text": [
      "addition of 5 and 2 is 7\n",
      "addition of 5 and 6 is 11\n"
     ]
    }
   ],
   "source": [
    "# 3. function with default parameters\n",
    "def add(a=1, b=2):\n",
    "    c = a + b\n",
    "    print(f\"addition of {a} and {b} is {c}\")\n",
    "\n",
    "add(5)#addition of 5 and 2 is 7\n",
    "add(5,6)#addition of 5 and 6 is 11\n",
    "#add(5,6,7)#TypeError: add() takes from 0 to 2 positional arguments but 3 were given"
   ]
  },
  {
   "cell_type": "code",
   "execution_count": 13,
   "metadata": {},
   "outputs": [
    {
     "name": "stdout",
     "output_type": "stream",
     "text": [
      "11\n"
     ]
    }
   ],
   "source": [
    "# 4. function with return statement\n",
    "def add(a, b):\n",
    "    c = a + b\n",
    "    return c\n",
    "\n",
    "x = add(5,6)\n",
    "print(x)"
   ]
  },
  {
   "cell_type": "code",
   "execution_count": 18,
   "metadata": {},
   "outputs": [
    {
     "name": "stdout",
     "output_type": "stream",
     "text": [
      "addition of (1, 2) is 3\n",
      "addition of (1, 2, 3) is 6\n",
      "addition of (1, 2, 3, 4) is 10\n",
      "addition of (1, 2, 3, 4, 5, 6, 7, 8, 9, 10) is 55\n"
     ]
    }
   ],
   "source": [
    "# 5. function with arbitrary number of parameters\n",
    "def add(*num):#num is a tuple\n",
    "\n",
    "    # c = num[0] + num[1] #for 2 numbers\n",
    "    c = 0\n",
    "    for i in num:\n",
    "        c = c + i\n",
    "    print(f\"addition of {num} is {c}\")\n",
    "    \n",
    "add(1,2)\n",
    "add(1,2,3)\n",
    "add(1,2,3,4)\n",
    "add(1,2,3,4,5,6,7,8,9,10)"
   ]
  },
  {
   "cell_type": "code",
   "execution_count": 23,
   "metadata": {},
   "outputs": [
    {
     "name": "stdout",
     "output_type": "stream",
     "text": [
      "addition of {'a': 1, 'b': 2} is 3\n",
      "addition of {'a': 1, 'b': 2, 'c': 3} is 6\n",
      "addition of {'b': 2, 'c': 3, 'a': 1} is 6\n"
     ]
    }
   ],
   "source": [
    "# 6. function with arbitrary number of keyword parameters\n",
    "def add(**num):#num is a dictionary\n",
    "\n",
    "    # c = num[0] + num[1] #for 2 numbers\n",
    "    c = 0\n",
    "    for i in num:\n",
    "        c = c + num[i]\n",
    "    print(f\"addition of {num} is {c}\")\n",
    "\n",
    "#add(1,2)#TypeError: add() takes 0 positional arguments but 2 were given\n",
    "add(a=1,b=2)\n",
    "add(a=1,b=2,c=3)\n",
    "add(b=2,c=3,a=1)\n",
    "#add(1,2,a=2)#TypeError: add() takes 0 positional arguments but 2 were given"
   ]
  },
  {
   "cell_type": "code",
   "execution_count": null,
   "metadata": {},
   "outputs": [],
   "source": []
  }
 ],
 "metadata": {
  "kernelspec": {
   "display_name": "main",
   "language": "python",
   "name": "python3"
  },
  "language_info": {
   "codemirror_mode": {
    "name": "ipython",
    "version": 3
   },
   "file_extension": ".py",
   "mimetype": "text/x-python",
   "name": "python",
   "nbconvert_exporter": "python",
   "pygments_lexer": "ipython3",
   "version": "3.8.19"
  }
 },
 "nbformat": 4,
 "nbformat_minor": 2
}
